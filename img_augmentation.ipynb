{
 "cells": [
  {
   "cell_type": "code",
   "execution_count": 2,
   "metadata": {},
   "outputs": [
    {
     "name": "stderr",
     "output_type": "stream",
     "text": [
      "Using TensorFlow backend.\n"
     ]
    }
   ],
   "source": [
    "from keras.preprocessing.image import ImageDataGenerator\n",
    "import numpy as np\n",
    "from itertools import groupby\n",
    "import collections\n",
    "import random"
   ]
  },
  {
   "cell_type": "code",
   "execution_count": 3,
   "metadata": {},
   "outputs": [
    {
     "name": "stdout",
     "output_type": "stream",
     "text": [
      "(27947, 64, 64, 1)\n",
      "(27947, 8)\n"
     ]
    }
   ],
   "source": [
    "data = np.load('Data/Emotion/Train/final_data.npy')\n",
    "print(data.shape)\n",
    "labels = np.load('Data/Emotion/Train/final_labels_data.npy')\n",
    "print(labels.shape)"
   ]
  },
  {
   "cell_type": "code",
   "execution_count": 7,
   "metadata": {
    "collapsed": true
   },
   "outputs": [],
   "source": [
    "# Find all the different labels\n",
    "res = []\n",
    "for i in range(27947):\n",
    "    winner = np.argwhere(labels[i] == np.amax(labels[i])).flatten().tolist()\n",
    "    a = ''\n",
    "    for w in winner:\n",
    "        a += str(w)\n",
    "    res.append(a)"
   ]
  },
  {
   "cell_type": "code",
   "execution_count": 8,
   "metadata": {
    "collapsed": true
   },
   "outputs": [],
   "source": [
    "# Find the frequency of every category\n",
    "# Some images have two or more labels (emotions)\n",
    "# eg. 01 -> neutral + happy\n",
    "counter = collections.Counter(res)"
   ]
  },
  {
   "cell_type": "code",
   "execution_count": 9,
   "metadata": {
    "scrolled": true
   },
   "outputs": [
    {
     "data": {
      "text/plain": [
       "Counter({'0': 9272,\n",
       "         '01': 119,\n",
       "         '012': 2,\n",
       "         '013': 1,\n",
       "         '014': 1,\n",
       "         '015': 1,\n",
       "         '02': 70,\n",
       "         '023': 5,\n",
       "         '024': 2,\n",
       "         '026': 4,\n",
       "         '03': 450,\n",
       "         '034': 12,\n",
       "         '035': 1,\n",
       "         '036': 7,\n",
       "         '037': 8,\n",
       "         '04': 96,\n",
       "         '045': 4,\n",
       "         '05': 11,\n",
       "         '057': 1,\n",
       "         '06': 12,\n",
       "         '07': 28,\n",
       "         '1': 7394,\n",
       "         '12': 58,\n",
       "         '124': 3,\n",
       "         '13': 10,\n",
       "         '14': 25,\n",
       "         '145': 4,\n",
       "         '15': 3,\n",
       "         '16': 2,\n",
       "         '17': 2,\n",
       "         '2': 3349,\n",
       "         '23': 16,\n",
       "         '234': 1,\n",
       "         '236': 1,\n",
       "         '24': 40,\n",
       "         '245': 2,\n",
       "         '246': 6,\n",
       "         '247': 1,\n",
       "         '25': 3,\n",
       "         '256': 1,\n",
       "         '26': 97,\n",
       "         '3': 3361,\n",
       "         '34': 32,\n",
       "         '345': 3,\n",
       "         '35': 13,\n",
       "         '357': 1,\n",
       "         '36': 26,\n",
       "         '37': 9,\n",
       "         '4': 2360,\n",
       "         '45': 23,\n",
       "         '457': 1,\n",
       "         '46': 15,\n",
       "         '47': 2,\n",
       "         '5': 165,\n",
       "         '56': 1,\n",
       "         '57': 4,\n",
       "         '6': 642,\n",
       "         '67': 1,\n",
       "         '7': 163})"
      ]
     },
     "execution_count": 9,
     "metadata": {},
     "output_type": "execute_result"
    }
   ],
   "source": [
    "counter"
   ]
  },
  {
   "cell_type": "code",
   "execution_count": 10,
   "metadata": {
    "collapsed": true
   },
   "outputs": [],
   "source": [
    "# Use keras for image augmentation\n",
    "data_generator = ImageDataGenerator(\n",
    "        rotation_range=20,\n",
    "        width_shift_range=0.1,\n",
    "        height_shift_range=0.1,\n",
    "        zoom_range=.1,\n",
    "        horizontal_flip=True)"
   ]
  },
  {
   "cell_type": "code",
   "execution_count": 174,
   "metadata": {},
   "outputs": [
    {
     "name": "stdout",
     "output_type": "stream",
     "text": [
      "0\n",
      "1\n",
      "2\n",
      "3\n",
      "4\n",
      "5\n",
      "6\n",
      "7\n"
     ]
    }
   ],
   "source": [
    "# Augment the images and create a balanced dataset across all 8 emotions\n",
    "# Final length of every image is 10000\n",
    "for emotion in ['0','1','2','3','4','5','6','7']:\n",
    "    print(emotion)\n",
    "    aug = []\n",
    "    lab = []\n",
    "    indices = [index for index, value in enumerate(res) if value == emotion]\n",
    "    frequency = counter[emotion]\n",
    "    number_of_augmentations = 10000 - frequency\n",
    "    # find the indices with the emotion\n",
    "    indices = [index for index, value in enumerate(res) if value == emotion]\n",
    "    # Take at random 'number_of_augmentations' items\n",
    "    if number_of_augmentations > frequency:\n",
    "        indices = int(np.ceil(number_of_augmentations/frequency)) * indices\n",
    "        random_items = random.sample(indices, number_of_augmentations)\n",
    "    else:\n",
    "        random_items = random.sample(indices, number_of_augmentations)\n",
    "    for item in random_items:\n",
    "        for X_batch, in data_generator.flow(np.reshape(data[item], (1,64,64,1)), save_to_dir='aug'+emotion, save_format='jpg', batch_size=1):\n",
    "            X_batch = X_batch.astype('uint')\n",
    "            X_batch = np.reshape(X_batch,(64,64,1)).tolist()\n",
    "            aug.append(X_batch)\n",
    "            lab.append(labels[item].tolist())\n",
    "            break\n",
    "    arr_aug = np.array(aug)\n",
    "    arr_lab = np.array(lab)\n",
    "    \n",
    "    np.save('./aug' + emotion + '/' + 'arr' + emotion, arr_aug)\n",
    "    np.save('./aug' + emotion + '/' + 'lab' + emotion, arr_lab)"
   ]
  },
  {
   "cell_type": "code",
   "execution_count": 187,
   "metadata": {
    "collapsed": true
   },
   "outputs": [],
   "source": [
    "# Concatenate the arrays\n",
    "for i in range(8):\n",
    "    d = np.load('aug{}/arr{}.npy'.format(i,i))\n",
    "    l = np.load('aug{}/lab{}.npy'.format(i,i))\n",
    "    data = np.concatenate((data, d), axis=0)\n",
    "    labels = np.concatenate((labels, l), axis=0)"
   ]
  },
  {
   "cell_type": "code",
   "execution_count": 189,
   "metadata": {},
   "outputs": [
    {
     "data": {
      "text/plain": [
       "(81241, 64, 64, 1)"
      ]
     },
     "execution_count": 189,
     "metadata": {},
     "output_type": "execute_result"
    }
   ],
   "source": [
    "data.shape"
   ]
  },
  {
   "cell_type": "code",
   "execution_count": 190,
   "metadata": {},
   "outputs": [
    {
     "data": {
      "text/plain": [
       "(81241, 8)"
      ]
     },
     "execution_count": 190,
     "metadata": {},
     "output_type": "execute_result"
    }
   ],
   "source": [
    "labels.shape"
   ]
  },
  {
   "cell_type": "code",
   "execution_count": 195,
   "metadata": {
    "collapsed": true
   },
   "outputs": [],
   "source": [
    "# Save the augmented train set\n",
    "np.save('Data/Emotion/Train/final_data_aug.npy', data)\n",
    "np.save('Data/Emotion/Train/final_labels_data_aug.npy', labels)"
   ]
  },
  {
   "cell_type": "code",
   "execution_count": null,
   "metadata": {
    "collapsed": true
   },
   "outputs": [],
   "source": []
  }
 ],
 "metadata": {
  "kernelspec": {
   "display_name": "Python [default]",
   "language": "python",
   "name": "python3"
  },
  "language_info": {
   "codemirror_mode": {
    "name": "ipython",
    "version": 3
   },
   "file_extension": ".py",
   "mimetype": "text/x-python",
   "name": "python",
   "nbconvert_exporter": "python",
   "pygments_lexer": "ipython3",
   "version": "3.5.3"
  }
 },
 "nbformat": 4,
 "nbformat_minor": 2
}
